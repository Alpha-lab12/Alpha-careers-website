{
  "nbformat": 4,
  "nbformat_minor": 0,
  "metadata": {
    "colab": {
      "provenance": [],
      "authorship_tag": "ABX9TyO3p4tl6GYmxBt41gqSgYEM",
      "include_colab_link": true
    },
    "kernelspec": {
      "name": "python3",
      "display_name": "Python 3"
    },
    "language_info": {
      "name": "python"
    }
  },
  "cells": [
    {
      "cell_type": "markdown",
      "metadata": {
        "id": "view-in-github",
        "colab_type": "text"
      },
      "source": [
        "<a href=\"https://colab.research.google.com/github/Alpha-lab12/Alpha-careers-website/blob/main/Weather.ipynb\" target=\"_parent\"><img src=\"https://colab.research.google.com/assets/colab-badge.svg\" alt=\"Open In Colab\"/></a>"
      ]
    },
    {
      "cell_type": "markdown",
      "source": [
        "# **1. Importing libraries**"
      ],
      "metadata": {
        "id": "wxvrvadduxne"
      }
    },
    {
      "cell_type": "code",
      "execution_count": null,
      "metadata": {
        "collapsed": true,
        "id": "qgeOfsPwxtc_"
      },
      "outputs": [],
      "source": [
        "import requests # This library helps to fetch data from API\n",
        "import pandas as pd # Helps for handling and analysing data\n",
        "import numpy as np # Used to perform numerical operation\n",
        "from sklearn.model_selection import train_test_split # to split data into training and testing\n",
        "from sklearn.preprocessing import LabelEncoder # to convert categorical data to numerical values\n",
        "from sklearn.ensemble import RandomForestClassifier, RandomForestRegressor #model for classification and regression\n",
        "from sklearn.metrics import mean_squared_error #For measuring accuracy of the model/prediction\n",
        "from datetime import datetime, timedelta #to handle date and time\n",
        "import pytz\n"
      ]
    },
    {
      "cell_type": "code",
      "source": [
        "API_KEY = '08b881ad5e8964d704fa0f9cfc06dec4' #Replace with the actual API keys\n",
        "BASE_URL = 'https://api.openweathermap.org/data/2.5/' #Base URL for making API requests\n",
        "df = pd.read_csv('/content/weather_forecast_data.csv')\n",
        "df.head().style.background_gradient(cmap='Blues')\n"
      ],
      "metadata": {
        "id": "UR19WipO4Vsn",
        "colab": {
          "base_uri": "https://localhost:8080/",
          "height": 206
        },
        "outputId": "5d2406be-4f99-4b7a-b505-06b6b28f07dd"
      },
      "execution_count": 35,
      "outputs": [
        {
          "output_type": "execute_result",
          "data": {
            "text/plain": [
              "<pandas.io.formats.style.Styler at 0x794470a0d1d0>"
            ],
            "text/html": [
              "<style type=\"text/css\">\n",
              "#T_96dc1_row0_col0 {\n",
              "  background-color: #89bedc;\n",
              "  color: #000000;\n",
              "}\n",
              "#T_96dc1_row0_col1 {\n",
              "  background-color: #0b559f;\n",
              "  color: #f1f1f1;\n",
              "}\n",
              "#T_96dc1_row0_col2, #T_96dc1_row0_col4, #T_96dc1_row1_col0, #T_96dc1_row3_col3, #T_96dc1_row4_col1 {\n",
              "  background-color: #08306b;\n",
              "  color: #f1f1f1;\n",
              "}\n",
              "#T_96dc1_row0_col3 {\n",
              "  background-color: #2575b7;\n",
              "  color: #f1f1f1;\n",
              "}\n",
              "#T_96dc1_row1_col1, #T_96dc1_row1_col3, #T_96dc1_row2_col2, #T_96dc1_row4_col0, #T_96dc1_row4_col4 {\n",
              "  background-color: #f7fbff;\n",
              "  color: #000000;\n",
              "}\n",
              "#T_96dc1_row1_col2 {\n",
              "  background-color: #1d6cb1;\n",
              "  color: #f1f1f1;\n",
              "}\n",
              "#T_96dc1_row1_col4 {\n",
              "  background-color: #cadef0;\n",
              "  color: #000000;\n",
              "}\n",
              "#T_96dc1_row2_col0 {\n",
              "  background-color: #4594c7;\n",
              "  color: #f1f1f1;\n",
              "}\n",
              "#T_96dc1_row2_col1 {\n",
              "  background-color: #2777b8;\n",
              "  color: #f1f1f1;\n",
              "}\n",
              "#T_96dc1_row2_col3 {\n",
              "  background-color: #d8e7f5;\n",
              "  color: #000000;\n",
              "}\n",
              "#T_96dc1_row2_col4 {\n",
              "  background-color: #66abd4;\n",
              "  color: #f1f1f1;\n",
              "}\n",
              "#T_96dc1_row3_col0 {\n",
              "  background-color: #8dc1dd;\n",
              "  color: #000000;\n",
              "}\n",
              "#T_96dc1_row3_col1 {\n",
              "  background-color: #5aa2cf;\n",
              "  color: #f1f1f1;\n",
              "}\n",
              "#T_96dc1_row3_col2 {\n",
              "  background-color: #083c7d;\n",
              "  color: #f1f1f1;\n",
              "}\n",
              "#T_96dc1_row3_col4 {\n",
              "  background-color: #f1f7fd;\n",
              "  color: #000000;\n",
              "}\n",
              "#T_96dc1_row4_col2 {\n",
              "  background-color: #5ba3d0;\n",
              "  color: #f1f1f1;\n",
              "}\n",
              "#T_96dc1_row4_col3 {\n",
              "  background-color: #3282be;\n",
              "  color: #f1f1f1;\n",
              "}\n",
              "</style>\n",
              "<table id=\"T_96dc1\" class=\"dataframe\">\n",
              "  <thead>\n",
              "    <tr>\n",
              "      <th class=\"blank level0\" >&nbsp;</th>\n",
              "      <th id=\"T_96dc1_level0_col0\" class=\"col_heading level0 col0\" >Temperature</th>\n",
              "      <th id=\"T_96dc1_level0_col1\" class=\"col_heading level0 col1\" >Humidity</th>\n",
              "      <th id=\"T_96dc1_level0_col2\" class=\"col_heading level0 col2\" >Wind_Speed</th>\n",
              "      <th id=\"T_96dc1_level0_col3\" class=\"col_heading level0 col3\" >Cloud_Cover</th>\n",
              "      <th id=\"T_96dc1_level0_col4\" class=\"col_heading level0 col4\" >Pressure</th>\n",
              "      <th id=\"T_96dc1_level0_col5\" class=\"col_heading level0 col5\" >Rain</th>\n",
              "    </tr>\n",
              "  </thead>\n",
              "  <tbody>\n",
              "    <tr>\n",
              "      <th id=\"T_96dc1_level0_row0\" class=\"row_heading level0 row0\" >0</th>\n",
              "      <td id=\"T_96dc1_row0_col0\" class=\"data row0 col0\" >23.720338</td>\n",
              "      <td id=\"T_96dc1_row0_col1\" class=\"data row0 col1\" >89.592641</td>\n",
              "      <td id=\"T_96dc1_row0_col2\" class=\"data row0 col2\" >7.335604</td>\n",
              "      <td id=\"T_96dc1_row0_col3\" class=\"data row0 col3\" >50.501694</td>\n",
              "      <td id=\"T_96dc1_row0_col4\" class=\"data row0 col4\" >1032.378759</td>\n",
              "      <td id=\"T_96dc1_row0_col5\" class=\"data row0 col5\" >rain</td>\n",
              "    </tr>\n",
              "    <tr>\n",
              "      <th id=\"T_96dc1_level0_row1\" class=\"row_heading level0 row1\" >1</th>\n",
              "      <td id=\"T_96dc1_row1_col0\" class=\"data row1 col0\" >27.879734</td>\n",
              "      <td id=\"T_96dc1_row1_col1\" class=\"data row1 col1\" >46.489704</td>\n",
              "      <td id=\"T_96dc1_row1_col2\" class=\"data row1 col2\" >5.952484</td>\n",
              "      <td id=\"T_96dc1_row1_col3\" class=\"data row1 col3\" >4.990053</td>\n",
              "      <td id=\"T_96dc1_row1_col4\" class=\"data row1 col4\" >992.614190</td>\n",
              "      <td id=\"T_96dc1_row1_col5\" class=\"data row1 col5\" >no rain</td>\n",
              "    </tr>\n",
              "    <tr>\n",
              "      <th id=\"T_96dc1_level0_row2\" class=\"row_heading level0 row2\" >2</th>\n",
              "      <td id=\"T_96dc1_row2_col0\" class=\"data row2 col0\" >25.069084</td>\n",
              "      <td id=\"T_96dc1_row2_col1\" class=\"data row2 col1\" >83.072843</td>\n",
              "      <td id=\"T_96dc1_row2_col2\" class=\"data row2 col2\" >1.371992</td>\n",
              "      <td id=\"T_96dc1_row2_col3\" class=\"data row2 col3\" >14.855784</td>\n",
              "      <td id=\"T_96dc1_row2_col4\" class=\"data row2 col4\" >1007.231620</td>\n",
              "      <td id=\"T_96dc1_row2_col5\" class=\"data row2 col5\" >no rain</td>\n",
              "    </tr>\n",
              "    <tr>\n",
              "      <th id=\"T_96dc1_level0_row3\" class=\"row_heading level0 row3\" >3</th>\n",
              "      <td id=\"T_96dc1_row3_col0\" class=\"data row3 col0\" >23.622080</td>\n",
              "      <td id=\"T_96dc1_row3_col1\" class=\"data row3 col1\" >74.367758</td>\n",
              "      <td id=\"T_96dc1_row3_col2\" class=\"data row3 col2\" >7.050551</td>\n",
              "      <td id=\"T_96dc1_row3_col3\" class=\"data row3 col3\" >67.255282</td>\n",
              "      <td id=\"T_96dc1_row3_col4\" class=\"data row3 col4\" >982.632013</td>\n",
              "      <td id=\"T_96dc1_row3_col5\" class=\"data row3 col5\" >rain</td>\n",
              "    </tr>\n",
              "    <tr>\n",
              "      <th id=\"T_96dc1_level0_row4\" class=\"row_heading level0 row4\" >4</th>\n",
              "      <td id=\"T_96dc1_row4_col0\" class=\"data row4 col0\" >20.591370</td>\n",
              "      <td id=\"T_96dc1_row4_col1\" class=\"data row4 col1\" >96.858822</td>\n",
              "      <td id=\"T_96dc1_row4_col2\" class=\"data row4 col2\" >4.643921</td>\n",
              "      <td id=\"T_96dc1_row4_col3\" class=\"data row4 col3\" >47.676444</td>\n",
              "      <td id=\"T_96dc1_row4_col4\" class=\"data row4 col4\" >980.825142</td>\n",
              "      <td id=\"T_96dc1_row4_col5\" class=\"data row4 col5\" >no rain</td>\n",
              "    </tr>\n",
              "  </tbody>\n",
              "</table>\n"
            ]
          },
          "metadata": {},
          "execution_count": 35
        }
      ]
    },
    {
      "cell_type": "code",
      "source": [
        "df.tail().style.background_gradient(cmap='Greens')"
      ],
      "metadata": {
        "colab": {
          "base_uri": "https://localhost:8080/",
          "height": 206
        },
        "id": "5H7e-KHdXnvN",
        "outputId": "d48cc5e2-22ae-41ec-9f9a-9c32ca968407"
      },
      "execution_count": 38,
      "outputs": [
        {
          "output_type": "execute_result",
          "data": {
            "text/plain": [
              "<pandas.io.formats.style.Styler at 0x79446aaf3a50>"
            ],
            "text/html": [
              "<style type=\"text/css\">\n",
              "#T_debfb_row0_col0, #T_debfb_row1_col2 {\n",
              "  background-color: #6abf71;\n",
              "  color: #000000;\n",
              "}\n",
              "#T_debfb_row0_col1 {\n",
              "  background-color: #f4fbf1;\n",
              "  color: #000000;\n",
              "}\n",
              "#T_debfb_row0_col2 {\n",
              "  background-color: #52b365;\n",
              "  color: #f1f1f1;\n",
              "}\n",
              "#T_debfb_row0_col3 {\n",
              "  background-color: #37a055;\n",
              "  color: #f1f1f1;\n",
              "}\n",
              "#T_debfb_row0_col4 {\n",
              "  background-color: #9bd696;\n",
              "  color: #000000;\n",
              "}\n",
              "#T_debfb_row1_col0 {\n",
              "  background-color: #005120;\n",
              "  color: #f1f1f1;\n",
              "}\n",
              "#T_debfb_row1_col1 {\n",
              "  background-color: #f0f9ed;\n",
              "  color: #000000;\n",
              "}\n",
              "#T_debfb_row1_col3 {\n",
              "  background-color: #7dc87e;\n",
              "  color: #000000;\n",
              "}\n",
              "#T_debfb_row1_col4 {\n",
              "  background-color: #d3eecd;\n",
              "  color: #000000;\n",
              "}\n",
              "#T_debfb_row2_col0, #T_debfb_row3_col4, #T_debfb_row4_col1, #T_debfb_row4_col2, #T_debfb_row4_col3 {\n",
              "  background-color: #00441b;\n",
              "  color: #f1f1f1;\n",
              "}\n",
              "#T_debfb_row2_col1, #T_debfb_row2_col4, #T_debfb_row3_col0, #T_debfb_row3_col2, #T_debfb_row3_col3 {\n",
              "  background-color: #f7fcf5;\n",
              "  color: #000000;\n",
              "}\n",
              "#T_debfb_row2_col2 {\n",
              "  background-color: #f2faf0;\n",
              "  color: #000000;\n",
              "}\n",
              "#T_debfb_row2_col3 {\n",
              "  background-color: #005a24;\n",
              "  color: #f1f1f1;\n",
              "}\n",
              "#T_debfb_row3_col1 {\n",
              "  background-color: #c3e7bc;\n",
              "  color: #000000;\n",
              "}\n",
              "#T_debfb_row4_col0 {\n",
              "  background-color: #00692a;\n",
              "  color: #f1f1f1;\n",
              "}\n",
              "#T_debfb_row4_col4 {\n",
              "  background-color: #eff9ec;\n",
              "  color: #000000;\n",
              "}\n",
              "</style>\n",
              "<table id=\"T_debfb\" class=\"dataframe\">\n",
              "  <thead>\n",
              "    <tr>\n",
              "      <th class=\"blank level0\" >&nbsp;</th>\n",
              "      <th id=\"T_debfb_level0_col0\" class=\"col_heading level0 col0\" >Temperature</th>\n",
              "      <th id=\"T_debfb_level0_col1\" class=\"col_heading level0 col1\" >Humidity</th>\n",
              "      <th id=\"T_debfb_level0_col2\" class=\"col_heading level0 col2\" >Wind_Speed</th>\n",
              "      <th id=\"T_debfb_level0_col3\" class=\"col_heading level0 col3\" >Cloud_Cover</th>\n",
              "      <th id=\"T_debfb_level0_col4\" class=\"col_heading level0 col4\" >Pressure</th>\n",
              "      <th id=\"T_debfb_level0_col5\" class=\"col_heading level0 col5\" >Rain</th>\n",
              "    </tr>\n",
              "  </thead>\n",
              "  <tbody>\n",
              "    <tr>\n",
              "      <th id=\"T_debfb_level0_row0\" class=\"row_heading level0 row0\" >2495</th>\n",
              "      <td id=\"T_debfb_row0_col0\" class=\"data row0 col0\" >21.791602</td>\n",
              "      <td id=\"T_debfb_row0_col1\" class=\"data row0 col1\" >45.270902</td>\n",
              "      <td id=\"T_debfb_row0_col2\" class=\"data row0 col2\" >11.807192</td>\n",
              "      <td id=\"T_debfb_row0_col3\" class=\"data row0 col3\" >55.044682</td>\n",
              "      <td id=\"T_debfb_row0_col4\" class=\"data row0 col4\" >1017.686181</td>\n",
              "      <td id=\"T_debfb_row0_col5\" class=\"data row0 col5\" >no rain</td>\n",
              "    </tr>\n",
              "    <tr>\n",
              "      <th id=\"T_debfb_level0_row1\" class=\"row_heading level0 row1\" >2496</th>\n",
              "      <td id=\"T_debfb_row1_col0\" class=\"data row1 col0\" >27.558479</td>\n",
              "      <td id=\"T_debfb_row1_col1\" class=\"data row1 col1\" >46.481744</td>\n",
              "      <td id=\"T_debfb_row1_col2\" class=\"data row1 col2\" >10.884915</td>\n",
              "      <td id=\"T_debfb_row1_col3\" class=\"data row1 col3\" >39.715133</td>\n",
              "      <td id=\"T_debfb_row1_col4\" class=\"data row1 col4\" >1008.590961</td>\n",
              "      <td id=\"T_debfb_row1_col5\" class=\"data row1 col5\" >no rain</td>\n",
              "    </tr>\n",
              "    <tr>\n",
              "      <th id=\"T_debfb_level0_row2\" class=\"row_heading level0 row2\" >2497</th>\n",
              "      <td id=\"T_debfb_row2_col0\" class=\"data row2 col0\" >28.108274</td>\n",
              "      <td id=\"T_debfb_row2_col1\" class=\"data row2 col1\" >43.817178</td>\n",
              "      <td id=\"T_debfb_row2_col2\" class=\"data row2 col2\" >2.897128</td>\n",
              "      <td id=\"T_debfb_row2_col3\" class=\"data row2 col3\" >75.842952</td>\n",
              "      <td id=\"T_debfb_row2_col4\" class=\"data row2 col4\" >999.119187</td>\n",
              "      <td id=\"T_debfb_row2_col5\" class=\"data row2 col5\" >no rain</td>\n",
              "    </tr>\n",
              "    <tr>\n",
              "      <th id=\"T_debfb_level0_row3\" class=\"row_heading level0 row3\" >2498</th>\n",
              "      <td id=\"T_debfb_row3_col0\" class=\"data row3 col0\" >14.789275</td>\n",
              "      <td id=\"T_debfb_row3_col1\" class=\"data row3 col1\" >57.908105</td>\n",
              "      <td id=\"T_debfb_row3_col2\" class=\"data row3 col2\" >2.374717</td>\n",
              "      <td id=\"T_debfb_row3_col3\" class=\"data row3 col3\" >2.378743</td>\n",
              "      <td id=\"T_debfb_row3_col4\" class=\"data row3 col4\" >1046.501875</td>\n",
              "      <td id=\"T_debfb_row3_col5\" class=\"data row3 col5\" >no rain</td>\n",
              "    </tr>\n",
              "    <tr>\n",
              "      <th id=\"T_debfb_level0_row4\" class=\"row_heading level0 row4\" >2499</th>\n",
              "      <td id=\"T_debfb_row4_col0\" class=\"data row4 col0\" >26.554356</td>\n",
              "      <td id=\"T_debfb_row4_col1\" class=\"data row4 col1\" >97.101517</td>\n",
              "      <td id=\"T_debfb_row4_col2\" class=\"data row4 col2\" >18.563084</td>\n",
              "      <td id=\"T_debfb_row4_col3\" class=\"data row4 col3\" >81.357508</td>\n",
              "      <td id=\"T_debfb_row4_col4\" class=\"data row4 col4\" >1001.729176</td>\n",
              "      <td id=\"T_debfb_row4_col5\" class=\"data row4 col5\" >no rain</td>\n",
              "    </tr>\n",
              "  </tbody>\n",
              "</table>\n"
            ]
          },
          "metadata": {},
          "execution_count": 38
        }
      ]
    },
    {
      "cell_type": "code",
      "source": [
        "df.describe().T.style.background_gradient(cmap='Reds')"
      ],
      "metadata": {
        "colab": {
          "base_uri": "https://localhost:8080/",
          "height": 226
        },
        "id": "xsJNG-u7cUtY",
        "outputId": "1f093771-16d2-4cfb-a688-1a728cfe6a34"
      },
      "execution_count": 55,
      "outputs": [
        {
          "output_type": "execute_result",
          "data": {
            "text/plain": [
              "<pandas.io.formats.style.Styler at 0x79446da3d6d0>"
            ],
            "text/html": [
              "<style type=\"text/css\">\n",
              "#T_fe9d6_row0_col0, #T_fe9d6_row1_col0, #T_fe9d6_row2_col0, #T_fe9d6_row2_col1, #T_fe9d6_row2_col2, #T_fe9d6_row2_col3, #T_fe9d6_row2_col4, #T_fe9d6_row2_col5, #T_fe9d6_row2_col6, #T_fe9d6_row2_col7, #T_fe9d6_row3_col0, #T_fe9d6_row3_col3, #T_fe9d6_row4_col0 {\n",
              "  background-color: #fff5f0;\n",
              "  color: #000000;\n",
              "}\n",
              "#T_fe9d6_row0_col1, #T_fe9d6_row0_col5, #T_fe9d6_row0_col6, #T_fe9d6_row0_col7 {\n",
              "  background-color: #fff3ed;\n",
              "  color: #000000;\n",
              "}\n",
              "#T_fe9d6_row0_col2, #T_fe9d6_row1_col6 {\n",
              "  background-color: #feeae1;\n",
              "  color: #000000;\n",
              "}\n",
              "#T_fe9d6_row0_col3, #T_fe9d6_row0_col4 {\n",
              "  background-color: #fff4ee;\n",
              "  color: #000000;\n",
              "}\n",
              "#T_fe9d6_row1_col1, #T_fe9d6_row1_col5 {\n",
              "  background-color: #ffece4;\n",
              "  color: #000000;\n",
              "}\n",
              "#T_fe9d6_row1_col2 {\n",
              "  background-color: #f14130;\n",
              "  color: #f1f1f1;\n",
              "}\n",
              "#T_fe9d6_row1_col3 {\n",
              "  background-color: #fff0e9;\n",
              "  color: #000000;\n",
              "}\n",
              "#T_fe9d6_row1_col4, #T_fe9d6_row3_col1, #T_fe9d6_row3_col5 {\n",
              "  background-color: #ffeee7;\n",
              "  color: #000000;\n",
              "}\n",
              "#T_fe9d6_row1_col7, #T_fe9d6_row3_col7 {\n",
              "  background-color: #fee8de;\n",
              "  color: #000000;\n",
              "}\n",
              "#T_fe9d6_row3_col2, #T_fe9d6_row4_col1, #T_fe9d6_row4_col3, #T_fe9d6_row4_col4, #T_fe9d6_row4_col5, #T_fe9d6_row4_col6, #T_fe9d6_row4_col7 {\n",
              "  background-color: #67000d;\n",
              "  color: #f1f1f1;\n",
              "}\n",
              "#T_fe9d6_row3_col4 {\n",
              "  background-color: #fff2ec;\n",
              "  color: #000000;\n",
              "}\n",
              "#T_fe9d6_row3_col6 {\n",
              "  background-color: #ffebe2;\n",
              "  color: #000000;\n",
              "}\n",
              "#T_fe9d6_row4_col2 {\n",
              "  background-color: #f03d2d;\n",
              "  color: #f1f1f1;\n",
              "}\n",
              "</style>\n",
              "<table id=\"T_fe9d6\" class=\"dataframe\">\n",
              "  <thead>\n",
              "    <tr>\n",
              "      <th class=\"blank level0\" >&nbsp;</th>\n",
              "      <th id=\"T_fe9d6_level0_col0\" class=\"col_heading level0 col0\" >count</th>\n",
              "      <th id=\"T_fe9d6_level0_col1\" class=\"col_heading level0 col1\" >mean</th>\n",
              "      <th id=\"T_fe9d6_level0_col2\" class=\"col_heading level0 col2\" >std</th>\n",
              "      <th id=\"T_fe9d6_level0_col3\" class=\"col_heading level0 col3\" >min</th>\n",
              "      <th id=\"T_fe9d6_level0_col4\" class=\"col_heading level0 col4\" >25%</th>\n",
              "      <th id=\"T_fe9d6_level0_col5\" class=\"col_heading level0 col5\" >50%</th>\n",
              "      <th id=\"T_fe9d6_level0_col6\" class=\"col_heading level0 col6\" >75%</th>\n",
              "      <th id=\"T_fe9d6_level0_col7\" class=\"col_heading level0 col7\" >max</th>\n",
              "    </tr>\n",
              "  </thead>\n",
              "  <tbody>\n",
              "    <tr>\n",
              "      <th id=\"T_fe9d6_level0_row0\" class=\"row_heading level0 row0\" >Temperature</th>\n",
              "      <td id=\"T_fe9d6_row0_col0\" class=\"data row0 col0\" >2500.000000</td>\n",
              "      <td id=\"T_fe9d6_row0_col1\" class=\"data row0 col1\" >22.581725</td>\n",
              "      <td id=\"T_fe9d6_row0_col2\" class=\"data row0 col2\" >7.326996</td>\n",
              "      <td id=\"T_fe9d6_row0_col3\" class=\"data row0 col3\" >10.001842</td>\n",
              "      <td id=\"T_fe9d6_row0_col4\" class=\"data row0 col4\" >16.359398</td>\n",
              "      <td id=\"T_fe9d6_row0_col5\" class=\"data row0 col5\" >22.536448</td>\n",
              "      <td id=\"T_fe9d6_row0_col6\" class=\"data row0 col6\" >28.976476</td>\n",
              "      <td id=\"T_fe9d6_row0_col7\" class=\"data row0 col7\" >34.995214</td>\n",
              "    </tr>\n",
              "    <tr>\n",
              "      <th id=\"T_fe9d6_level0_row1\" class=\"row_heading level0 row1\" >Humidity</th>\n",
              "      <td id=\"T_fe9d6_row1_col0\" class=\"data row1 col0\" >2500.000000</td>\n",
              "      <td id=\"T_fe9d6_row1_col1\" class=\"data row1 col1\" >64.347094</td>\n",
              "      <td id=\"T_fe9d6_row1_col2\" class=\"data row1 col2\" >19.954739</td>\n",
              "      <td id=\"T_fe9d6_row1_col3\" class=\"data row1 col3\" >30.005071</td>\n",
              "      <td id=\"T_fe9d6_row1_col4\" class=\"data row1 col4\" >47.339815</td>\n",
              "      <td id=\"T_fe9d6_row1_col5\" class=\"data row1 col5\" >63.920797</td>\n",
              "      <td id=\"T_fe9d6_row1_col6\" class=\"data row1 col6\" >81.561021</td>\n",
              "      <td id=\"T_fe9d6_row1_col7\" class=\"data row1 col7\" >99.997481</td>\n",
              "    </tr>\n",
              "    <tr>\n",
              "      <th id=\"T_fe9d6_level0_row2\" class=\"row_heading level0 row2\" >Wind_Speed</th>\n",
              "      <td id=\"T_fe9d6_row2_col0\" class=\"data row2 col0\" >2500.000000</td>\n",
              "      <td id=\"T_fe9d6_row2_col1\" class=\"data row2 col1\" >9.906255</td>\n",
              "      <td id=\"T_fe9d6_row2_col2\" class=\"data row2 col2\" >5.780316</td>\n",
              "      <td id=\"T_fe9d6_row2_col3\" class=\"data row2 col3\" >0.009819</td>\n",
              "      <td id=\"T_fe9d6_row2_col4\" class=\"data row2 col4\" >4.761909</td>\n",
              "      <td id=\"T_fe9d6_row2_col5\" class=\"data row2 col5\" >9.908572</td>\n",
              "      <td id=\"T_fe9d6_row2_col6\" class=\"data row2 col6\" >14.948408</td>\n",
              "      <td id=\"T_fe9d6_row2_col7\" class=\"data row2 col7\" >19.999132</td>\n",
              "    </tr>\n",
              "    <tr>\n",
              "      <th id=\"T_fe9d6_level0_row3\" class=\"row_heading level0 row3\" >Cloud_Cover</th>\n",
              "      <td id=\"T_fe9d6_row3_col0\" class=\"data row3 col0\" >2500.000000</td>\n",
              "      <td id=\"T_fe9d6_row3_col1\" class=\"data row3 col1\" >49.658104</td>\n",
              "      <td id=\"T_fe9d6_row3_col2\" class=\"data row3 col2\" >29.123104</td>\n",
              "      <td id=\"T_fe9d6_row3_col3\" class=\"data row3 col3\" >0.015038</td>\n",
              "      <td id=\"T_fe9d6_row3_col4\" class=\"data row3 col4\" >23.900016</td>\n",
              "      <td id=\"T_fe9d6_row3_col5\" class=\"data row3 col5\" >49.488284</td>\n",
              "      <td id=\"T_fe9d6_row3_col6\" class=\"data row3 col6\" >75.324140</td>\n",
              "      <td id=\"T_fe9d6_row3_col7\" class=\"data row3 col7\" >99.997795</td>\n",
              "    </tr>\n",
              "    <tr>\n",
              "      <th id=\"T_fe9d6_level0_row4\" class=\"row_heading level0 row4\" >Pressure</th>\n",
              "      <td id=\"T_fe9d6_row4_col0\" class=\"data row4 col0\" >2500.000000</td>\n",
              "      <td id=\"T_fe9d6_row4_col1\" class=\"data row4 col1\" >1014.312336</td>\n",
              "      <td id=\"T_fe9d6_row4_col2\" class=\"data row4 col2\" >20.196433</td>\n",
              "      <td id=\"T_fe9d6_row4_col3\" class=\"data row4 col3\" >980.014486</td>\n",
              "      <td id=\"T_fe9d6_row4_col4\" class=\"data row4 col4\" >996.938630</td>\n",
              "      <td id=\"T_fe9d6_row4_col5\" class=\"data row4 col5\" >1013.433035</td>\n",
              "      <td id=\"T_fe9d6_row4_col6\" class=\"data row4 col6\" >1031.735067</td>\n",
              "      <td id=\"T_fe9d6_row4_col7\" class=\"data row4 col7\" >1049.985593</td>\n",
              "    </tr>\n",
              "  </tbody>\n",
              "</table>\n"
            ]
          },
          "metadata": {},
          "execution_count": 55
        }
      ]
    },
    {
      "cell_type": "code",
      "source": [
        "df.isnull().sum()/df.shape[0]*100"
      ],
      "metadata": {
        "colab": {
          "base_uri": "https://localhost:8080/",
          "height": 272
        },
        "id": "8thO0lnKXzBg",
        "outputId": "940eb183-1703-408b-fa99-633cfaf4e62c"
      },
      "execution_count": 42,
      "outputs": [
        {
          "output_type": "execute_result",
          "data": {
            "text/plain": [
              "Temperature    0.0\n",
              "Humidity       0.0\n",
              "Wind_Speed     0.0\n",
              "Cloud_Cover    0.0\n",
              "Pressure       0.0\n",
              "Rain           0.0\n",
              "dtype: float64"
            ],
            "text/html": [
              "<div>\n",
              "<style scoped>\n",
              "    .dataframe tbody tr th:only-of-type {\n",
              "        vertical-align: middle;\n",
              "    }\n",
              "\n",
              "    .dataframe tbody tr th {\n",
              "        vertical-align: top;\n",
              "    }\n",
              "\n",
              "    .dataframe thead th {\n",
              "        text-align: right;\n",
              "    }\n",
              "</style>\n",
              "<table border=\"1\" class=\"dataframe\">\n",
              "  <thead>\n",
              "    <tr style=\"text-align: right;\">\n",
              "      <th></th>\n",
              "      <th>0</th>\n",
              "    </tr>\n",
              "  </thead>\n",
              "  <tbody>\n",
              "    <tr>\n",
              "      <th>Temperature</th>\n",
              "      <td>0.0</td>\n",
              "    </tr>\n",
              "    <tr>\n",
              "      <th>Humidity</th>\n",
              "      <td>0.0</td>\n",
              "    </tr>\n",
              "    <tr>\n",
              "      <th>Wind_Speed</th>\n",
              "      <td>0.0</td>\n",
              "    </tr>\n",
              "    <tr>\n",
              "      <th>Cloud_Cover</th>\n",
              "      <td>0.0</td>\n",
              "    </tr>\n",
              "    <tr>\n",
              "      <th>Pressure</th>\n",
              "      <td>0.0</td>\n",
              "    </tr>\n",
              "    <tr>\n",
              "      <th>Rain</th>\n",
              "      <td>0.0</td>\n",
              "    </tr>\n",
              "  </tbody>\n",
              "</table>\n",
              "</div><br><label><b>dtype:</b> float64</label>"
            ]
          },
          "metadata": {},
          "execution_count": 42
        }
      ]
    },
    {
      "cell_type": "code",
      "source": [
        "df.duplicated().sum()/df.shape[0]*100"
      ],
      "metadata": {
        "colab": {
          "base_uri": "https://localhost:8080/"
        },
        "id": "2s25rgnsYzz3",
        "outputId": "b4e9e2d3-4a9d-42e5-83d0-9e0f3f9153f9"
      },
      "execution_count": 43,
      "outputs": [
        {
          "output_type": "execute_result",
          "data": {
            "text/plain": [
              "np.float64(0.0)"
            ]
          },
          "metadata": {},
          "execution_count": 43
        }
      ]
    },
    {
      "cell_type": "code",
      "source": [
        "df.select_dtypes(include='number').columns"
      ],
      "metadata": {
        "colab": {
          "base_uri": "https://localhost:8080/"
        },
        "id": "N2lg4cZbh0km",
        "outputId": "e09ce39b-5472-4ea2-a5f8-99975d6f6b69"
      },
      "execution_count": 52,
      "outputs": [
        {
          "output_type": "execute_result",
          "data": {
            "text/plain": [
              "Index(['Temperature', 'Humidity', 'Wind_Speed', 'Cloud_Cover', 'Pressure'], dtype='object')"
            ]
          },
          "metadata": {},
          "execution_count": 52
        }
      ]
    },
    {
      "cell_type": "code",
      "source": [
        "df.describe(include='object').T"
      ],
      "metadata": {
        "colab": {
          "base_uri": "https://localhost:8080/",
          "height": 80
        },
        "id": "7kvaUYWLmBRp",
        "outputId": "d21290f9-332f-470b-f522-57ef1bb11814"
      },
      "execution_count": 59,
      "outputs": [
        {
          "output_type": "execute_result",
          "data": {
            "text/plain": [
              "     count unique      top  freq\n",
              "Rain  2500      2  no rain  2186"
            ],
            "text/html": [
              "\n",
              "  <div id=\"df-8687d905-e00f-4ad2-9642-43e5d61e9d51\" class=\"colab-df-container\">\n",
              "    <div>\n",
              "<style scoped>\n",
              "    .dataframe tbody tr th:only-of-type {\n",
              "        vertical-align: middle;\n",
              "    }\n",
              "\n",
              "    .dataframe tbody tr th {\n",
              "        vertical-align: top;\n",
              "    }\n",
              "\n",
              "    .dataframe thead th {\n",
              "        text-align: right;\n",
              "    }\n",
              "</style>\n",
              "<table border=\"1\" class=\"dataframe\">\n",
              "  <thead>\n",
              "    <tr style=\"text-align: right;\">\n",
              "      <th></th>\n",
              "      <th>count</th>\n",
              "      <th>unique</th>\n",
              "      <th>top</th>\n",
              "      <th>freq</th>\n",
              "    </tr>\n",
              "  </thead>\n",
              "  <tbody>\n",
              "    <tr>\n",
              "      <th>Rain</th>\n",
              "      <td>2500</td>\n",
              "      <td>2</td>\n",
              "      <td>no rain</td>\n",
              "      <td>2186</td>\n",
              "    </tr>\n",
              "  </tbody>\n",
              "</table>\n",
              "</div>\n",
              "    <div class=\"colab-df-buttons\">\n",
              "\n",
              "  <div class=\"colab-df-container\">\n",
              "    <button class=\"colab-df-convert\" onclick=\"convertToInteractive('df-8687d905-e00f-4ad2-9642-43e5d61e9d51')\"\n",
              "            title=\"Convert this dataframe to an interactive table.\"\n",
              "            style=\"display:none;\">\n",
              "\n",
              "  <svg xmlns=\"http://www.w3.org/2000/svg\" height=\"24px\" viewBox=\"0 -960 960 960\">\n",
              "    <path d=\"M120-120v-720h720v720H120Zm60-500h600v-160H180v160Zm220 220h160v-160H400v160Zm0 220h160v-160H400v160ZM180-400h160v-160H180v160Zm440 0h160v-160H620v160ZM180-180h160v-160H180v160Zm440 0h160v-160H620v160Z\"/>\n",
              "  </svg>\n",
              "    </button>\n",
              "\n",
              "  <style>\n",
              "    .colab-df-container {\n",
              "      display:flex;\n",
              "      gap: 12px;\n",
              "    }\n",
              "\n",
              "    .colab-df-convert {\n",
              "      background-color: #E8F0FE;\n",
              "      border: none;\n",
              "      border-radius: 50%;\n",
              "      cursor: pointer;\n",
              "      display: none;\n",
              "      fill: #1967D2;\n",
              "      height: 32px;\n",
              "      padding: 0 0 0 0;\n",
              "      width: 32px;\n",
              "    }\n",
              "\n",
              "    .colab-df-convert:hover {\n",
              "      background-color: #E2EBFA;\n",
              "      box-shadow: 0px 1px 2px rgba(60, 64, 67, 0.3), 0px 1px 3px 1px rgba(60, 64, 67, 0.15);\n",
              "      fill: #174EA6;\n",
              "    }\n",
              "\n",
              "    .colab-df-buttons div {\n",
              "      margin-bottom: 4px;\n",
              "    }\n",
              "\n",
              "    [theme=dark] .colab-df-convert {\n",
              "      background-color: #3B4455;\n",
              "      fill: #D2E3FC;\n",
              "    }\n",
              "\n",
              "    [theme=dark] .colab-df-convert:hover {\n",
              "      background-color: #434B5C;\n",
              "      box-shadow: 0px 1px 3px 1px rgba(0, 0, 0, 0.15);\n",
              "      filter: drop-shadow(0px 1px 2px rgba(0, 0, 0, 0.3));\n",
              "      fill: #FFFFFF;\n",
              "    }\n",
              "  </style>\n",
              "\n",
              "    <script>\n",
              "      const buttonEl =\n",
              "        document.querySelector('#df-8687d905-e00f-4ad2-9642-43e5d61e9d51 button.colab-df-convert');\n",
              "      buttonEl.style.display =\n",
              "        google.colab.kernel.accessAllowed ? 'block' : 'none';\n",
              "\n",
              "      async function convertToInteractive(key) {\n",
              "        const element = document.querySelector('#df-8687d905-e00f-4ad2-9642-43e5d61e9d51');\n",
              "        const dataTable =\n",
              "          await google.colab.kernel.invokeFunction('convertToInteractive',\n",
              "                                                    [key], {});\n",
              "        if (!dataTable) return;\n",
              "\n",
              "        const docLinkHtml = 'Like what you see? Visit the ' +\n",
              "          '<a target=\"_blank\" href=https://colab.research.google.com/notebooks/data_table.ipynb>data table notebook</a>'\n",
              "          + ' to learn more about interactive tables.';\n",
              "        element.innerHTML = '';\n",
              "        dataTable['output_type'] = 'display_data';\n",
              "        await google.colab.output.renderOutput(dataTable, element);\n",
              "        const docLink = document.createElement('div');\n",
              "        docLink.innerHTML = docLinkHtml;\n",
              "        element.appendChild(docLink);\n",
              "      }\n",
              "    </script>\n",
              "  </div>\n",
              "\n",
              "\n",
              "    </div>\n",
              "  </div>\n"
            ],
            "application/vnd.google.colaboratory.intrinsic+json": {
              "type": "dataframe",
              "summary": "{\n  \"name\": \"df\",\n  \"rows\": 1,\n  \"fields\": [\n    {\n      \"column\": \"count\",\n      \"properties\": {\n        \"dtype\": \"date\",\n        \"min\": \"2500\",\n        \"max\": \"2500\",\n        \"num_unique_values\": 1,\n        \"samples\": [\n          \"2500\"\n        ],\n        \"semantic_type\": \"\",\n        \"description\": \"\"\n      }\n    },\n    {\n      \"column\": \"unique\",\n      \"properties\": {\n        \"dtype\": \"date\",\n        \"min\": 2,\n        \"max\": 2,\n        \"num_unique_values\": 1,\n        \"samples\": [\n          2\n        ],\n        \"semantic_type\": \"\",\n        \"description\": \"\"\n      }\n    },\n    {\n      \"column\": \"top\",\n      \"properties\": {\n        \"dtype\": \"string\",\n        \"num_unique_values\": 1,\n        \"samples\": [\n          \"no rain\"\n        ],\n        \"semantic_type\": \"\",\n        \"description\": \"\"\n      }\n    },\n    {\n      \"column\": \"freq\",\n      \"properties\": {\n        \"dtype\": \"date\",\n        \"min\": \"2186\",\n        \"max\": \"2186\",\n        \"num_unique_values\": 1,\n        \"samples\": [\n          \"2186\"\n        ],\n        \"semantic_type\": \"\",\n        \"description\": \"\"\n      }\n    }\n  ]\n}"
            }
          },
          "metadata": {},
          "execution_count": 59
        }
      ]
    },
    {
      "cell_type": "code",
      "source": [
        "for i in df.select_dtypes(include='number').columns:\n",
        "  print(df[i].value_counts())\n"
      ],
      "metadata": {
        "colab": {
          "base_uri": "https://localhost:8080/"
        },
        "id": "ll024ixejub1",
        "outputId": "8abfffe3-d746-4934-977e-b42ecbf85965"
      },
      "execution_count": 53,
      "outputs": [
        {
          "output_type": "stream",
          "name": "stdout",
          "text": [
            "Temperature\n",
            "26.554356    1\n",
            "23.720338    1\n",
            "27.879734    1\n",
            "25.069084    1\n",
            "29.847710    1\n",
            "            ..\n",
            "34.091569    1\n",
            "32.294325    1\n",
            "20.939680    1\n",
            "26.147353    1\n",
            "20.591370    1\n",
            "Name: count, Length: 2500, dtype: int64\n",
            "Humidity\n",
            "97.101517    1\n",
            "89.592641    1\n",
            "46.489704    1\n",
            "83.072843    1\n",
            "87.348236    1\n",
            "            ..\n",
            "48.057114    1\n",
            "51.848471    1\n",
            "40.799444    1\n",
            "48.217260    1\n",
            "96.858822    1\n",
            "Name: count, Length: 2500, dtype: int64\n",
            "Wind_Speed\n",
            "18.563084    1\n",
            "7.335604     1\n",
            "5.952484     1\n",
            "1.371992     1\n",
            "3.295808     1\n",
            "            ..\n",
            "5.570206     1\n",
            "2.873621     1\n",
            "2.232566     1\n",
            "15.258547    1\n",
            "4.643921     1\n",
            "Name: count, Length: 2500, dtype: int64\n",
            "Cloud_Cover\n",
            "81.357508    1\n",
            "50.501694    1\n",
            "4.990053     1\n",
            "14.855784    1\n",
            "99.137103    1\n",
            "            ..\n",
            "82.524873    1\n",
            "92.551497    1\n",
            "45.827508    1\n",
            "59.766279    1\n",
            "47.676444    1\n",
            "Name: count, Length: 2500, dtype: int64\n",
            "Pressure\n",
            "1001.729176    1\n",
            "1032.378759    1\n",
            "992.614190     1\n",
            "1007.231620    1\n",
            "1016.720300    1\n",
            "              ..\n",
            "993.732047     1\n",
            "1006.041733    1\n",
            "1014.173766    1\n",
            "1049.738751    1\n",
            "980.825142     1\n",
            "Name: count, Length: 2500, dtype: int64\n"
          ]
        }
      ]
    },
    {
      "cell_type": "markdown",
      "source": [
        "**Check the distribution of values**"
      ],
      "metadata": {
        "id": "30YaxZlanIHp"
      }
    },
    {
      "cell_type": "code",
      "source": [
        "import seaborn as sns\n",
        "import matplotlib.pyplot as plt\n",
        "for i in df.select_dtypes(include='number').columns:\n",
        "    sns.histplot(data=df,x=i)\n",
        "    plt.show()"
      ],
      "metadata": {
        "colab": {
          "base_uri": "https://localhost:8080/",
          "height": 1000
        },
        "id": "628aNacsnRon",
        "outputId": "26c017c0-8d4a-491f-fdf7-a63df4d5ff15"
      },
      "execution_count": 64,
      "outputs": [
        {
          "output_type": "display_data",
          "data": {
            "text/plain": [
              "<Figure size 640x480 with 1 Axes>"
            ],
            "image/png": "[encoded data removed]"
          },
          "metadata": {}
        },
        {
          "output_type": "display_data",
          "data": {
            "text/plain": [
              "<Figure size 640x480 with 1 Axes>"
            ],
            "image/png": "[encoded data removed]"
          },
          "metadata": {}
        },
        {
          "output_type": "display_data",
          "data": {
            "text/plain": [
              "<Figure size 640x480 with 1 Axes>"
            ],
            "image/png": "[encoded data removed]"
          },
          "metadata": {}
        },
        {
          "output_type": "display_data",
          "data": {
            "text/plain": [
              "<Figure size 640x480 with 1 Axes>"
            ],
            "image/png": "[encoded data removed]"
          },
          "metadata": {}
        },
        {
          "output_type": "display_data",
          "data": {
            "text/plain": [
              "<Figure size 640x480 with 1 Axes>"
            ],
            "image/png": "[encoded data removed]"
          },
          "metadata": {}
        }
      ]
    },
    {
      "cell_type": "code",
      "source": [
        "plt.figure(figsize=(10,5))\n",
        "sns.histplot(df['Temperature'],kde=True, bins=20)\n",
        "plt.title('Temperature Distribution')\n",
        "plt.xlabel('Temperature (*c)')\n",
        "plt.ylabel('Frequency')\n",
        "plt.show()"
      ],
      "metadata": {
        "id": "AwBFGn1ct0Qe"
      },
      "execution_count": null,
      "outputs": []
    },
    {
      "cell_type": "markdown",
      "source": [
        "1. Function to fetch the current weather data"
      ],
      "metadata": {
        "id": "J8Gu3QKH5SET"
      }
    },
    {
      "cell_type": "code",
      "source": [
        "def get_current_weather(city):\n",
        "    url = f\"{BASE_URL}weather?q={city}&appid={API_KEY}&units=metric\"\n",
        "\n",
        "    response = requests.get(url)\n",
        "    data = response.json()\n",
        "\n",
        "    return {\n",
        "        'city': data['name'],\n",
        "        'current_temp': round(data['main']['temp']),\n",
        "        'feels_like': round(data['main']['feels_like']),\n",
        "        'temp_min': round(data['main']['temp_min']),\n",
        "        'temp_max': round(data['main']['temp_max']),\n",
        "        'humidity': round(data['main']['humidity']),\n",
        "        'description': data['weather'][0]['description'],\n",
        "        'country': data['sys']['country'],\n",
        "        'wind_speed': round(data['wind']['speed']),\n",
        "        'cloud_cover': round(data['clouds']['all']),\n",
        "        'pressure': round(data['main']['pressure'])\n",
        "    }\n",
        "    return data"
      ],
      "metadata": {
        "id": "V9-Jvnch5dkI"
      },
      "execution_count": null,
      "outputs": []
    },
    {
      "cell_type": "markdown",
      "source": [
        "2. Read Historical Data"
      ],
      "metadata": {
        "id": "pN6YR80IMQYj"
      }
    },
    {
      "cell_type": "code",
      "source": [
        "def read_historical_data(filename):\n",
        "  df = pd.read_csv(filename) #load csv file into Dataframe\n",
        "  df = df.dropna()\n",
        "  df = df.drop_duplicates() # Added parentheses here\n",
        "  df.head()\n",
        "  return df"
      ],
      "metadata": {
        "id": "H68r1TqCMhJD"
      },
      "execution_count": null,
      "outputs": []
    },
    {
      "cell_type": "markdown",
      "source": [
        "3. Prepare data for training"
      ],
      "metadata": {
        "id": "YENyHSZ1XmzR"
      }
    },
    {
      "cell_type": "code",
      "source": [
        "from sklearn.preprocessing import LabelEncoder\n",
        "\n",
        "def prepare_data(data):\n",
        "    # Initialize and apply the label encoder\n",
        "    le = LabelEncoder()\n",
        "    data['Rain'] = le.fit_transform(data['Rain'])\n",
        "\n",
        "    # Define features and target\n",
        "    x = data[['Temperature', 'Humidity', 'Wind_Speed', 'Cloud_Cover', 'Pressure']]\n",
        "    y = data['Rain']\n",
        "\n",
        "    return x, y, le\n",
        "\n"
      ],
      "metadata": {
        "id": "aOtitufRXuoS"
      },
      "execution_count": null,
      "outputs": []
    },
    {
      "cell_type": "markdown",
      "source": [
        "4: Train Rain model prediction"
      ],
      "metadata": {
        "id": "7XU58X7auxYY"
      }
    },
    {
      "cell_type": "code",
      "source": [
        "def train_rain_model(x,y):\n",
        " x_train, x_test, y_train, y_test = train_test_split(x, y, test_size=0.2, random_state=42)\n",
        " model=RandomForestClassifier(n_estimators = 100, random_state =42)\n",
        " model.fit(x_train, y_train)\n",
        " y_pred = model.predict(x_test)\n",
        " print(\"Mean Squared error for rain model \")\n",
        " print(mean_squared_error(y_test, y_pred))\n",
        " return model\n"
      ],
      "metadata": {
        "id": "_XkGzG6ru-lP"
      },
      "execution_count": null,
      "outputs": []
    },
    {
      "cell_type": "markdown",
      "source": [
        "**5: Prepare regression model**"
      ],
      "metadata": {
        "id": "MQ35tktMu_Za"
      }
    },
    {
      "cell_type": "code",
      "source": [
        "def prepare_regression_data(data, feature):\n",
        "    x, y = [], []\n",
        "\n",
        "    # Build pairs: current value vs. next value\n",
        "    for i in range(len(data) - 1):\n",
        "        x.append(data[feature].iloc[i])\n",
        "        y.append(data[feature].iloc[i + 1])\n",
        "\n",
        "    # Convert to NumPy arrays\n",
        "    x = np.array(x).reshape(-1, 1)  # Feature needs to be 2D for most regressors\n",
        "    y = np.array(y)  # Target values (next time step)\n",
        "\n",
        "    return x, y"
      ],
      "metadata": {
        "id": "cu50GfhMvGU3"
      },
      "execution_count": null,
      "outputs": []
    },
    {
      "cell_type": "markdown",
      "source": [
        "**6: Train regression model**"
      ],
      "metadata": {
        "id": "U7KuOd8dycqW"
      }
    },
    {
      "cell_type": "code",
      "source": [
        "def train_regression_model(x,y):\n",
        "  model = RandomForestRegressor(n_estimators=100, random_state=42)\n",
        "  model.fit(x,y)\n",
        "  return model"
      ],
      "metadata": {
        "id": "UDxBDxSoyiyZ"
      },
      "execution_count": null,
      "outputs": []
    },
    {
      "cell_type": "markdown",
      "source": [
        "**7: Predict future**"
      ],
      "metadata": {
        "id": "wpLHMo0YzuvR"
      }
    },
    {
      "cell_type": "code",
      "source": [
        "def predict_future(model, current_value):\n",
        "  predictions =[current_value]\n",
        "  for i in range(5):\n",
        "    next_value = model.predict(np.array([[predictions[-1]]]))\n",
        "    predictions.append(next_value[0])\n",
        "  return predictions[1:] # Moved return statement outside the loop"
      ],
      "metadata": {
        "id": "VzGgca0Czzk6"
      },
      "execution_count": null,
      "outputs": []
    },
    {
      "cell_type": "markdown",
      "source": [
        "**8: Weather analysis function**"
      ],
      "metadata": {
        "id": "SLpOvK441oon"
      }
    },
    {
      "cell_type": "code",
      "source": [
        "import pandas as pd\n",
        "import pytz\n",
        "from datetime import datetime, timedelta\n",
        "# 🌍 Main weather view function\n",
        "def weather_view():\n",
        "    city = input(\"Enter any city name: \")\n",
        "\n",
        "    current_weather = get_current_weather(city)\n",
        "    historical_data = read_historical_data(\"/content/weather_forecast_data.csv\")\n",
        "\n",
        "    x, y, le = prepare_data(historical_data)\n",
        "    rain_model = train_rain_model(x, y)\n",
        "\n",
        "    current_data = {\n",
        "        \"Temperature\": current_weather[\"current_temp\"], # Changed 'Temp' to 'Temperature'\n",
        "        \"Humidity\": current_weather[\"humidity\"],\n",
        "        \"Wind_Speed\": current_weather[\"wind_speed\"],\n",
        "        \"Cloud_Cover\": current_weather[\"cloud_cover\"],\n",
        "        \"Pressure\": current_weather[\"pressure\"]\n",
        "    }\n",
        "\n",
        "    current_df = pd.DataFrame([current_data])\n",
        "\n",
        "#Rain prediction\n",
        "    rain_prediction = rain_model.predict(current_df)[0]\n",
        "\n",
        "#Prepare regression model for temperature and humidity\n",
        "\n",
        "    x_temp, y_temp = prepare_regression_data(historical_data, 'Temperature') # Changed 'Temp' to 'Temperature'\n",
        "    x_hum, y_hum = prepare_regression_data(historical_data, 'Humidity')\n",
        "\n",
        "    temp_model = train_regression_model(x_temp, y_temp)\n",
        "    hum_model = train_regression_model(x_hum, y_hum)\n",
        "\n",
        "#Predict future temperature and humidity\n",
        "\n",
        "    future_temp = predict_future(temp_model, current_weather['current_temp'])\n",
        "    future_humidity = predict_future(hum_model, current_weather['humidity'])\n",
        "\n",
        "#prepare time for future prediction\n",
        "\n",
        "    timezone = pytz.timezone('Africa/Dar_es_Salaam')\n",
        "    now = datetime.now(timezone)\n",
        "    next_hours = now.replace(minute=0, second=0, microsecond=0) + timedelta(hours=1)\n",
        "    future_times = [(next_hours + timedelta(hours=i)).strftime('%H:00') for i in range(1, 6)]\n",
        "\n",
        "    # 🖥️ Display results\n",
        "    print(\"\\n=== Weather Advisory ===\")\n",
        "    print(f\"City: {city}, {current_weather['country']}\")\n",
        "    print(f\"Current Temperature: {current_weather['current_temp']}°C\")\n",
        "    print(f\"Feels Like: {current_weather['feels_like']}\")\n",
        "    print(f\"Humidity: {current_weather['humidity']}%\")\n",
        "    print(f\"Wind Speed: {current_weather['wind_speed']} km/h\")\n",
        "    print(f\"Cloud Cover: {current_weather['cloud_cover']}%\")\n",
        "    print(f\"Pressure: {current_weather['pressure']} hPa\")\n",
        "    print(f\"Weather Prediction: {current_weather['description']}\")\n",
        "    print(f\"Rain Prediction: {'Rain expected 🌧️' if rain_prediction else 'No rain ☀️'}\")\n",
        "\n",
        "    print(\"\\nFuture Temperature Predictions:\")\n",
        "    for time, temp in zip(future_times, future_temp):\n",
        "        print(f\"{time}: {round(temp, 1)}°C\")\n",
        "\n",
        "    print(\"\\nFuture Humidity Predictions:\")\n",
        "    for time, hum in zip(future_times, future_humidity):\n",
        "        print(f\"{time}: {round(hum, 1)}%\")\n",
        "\n",
        "# Call function\n",
        "weather_view() # Commenting out the direct call to weather_view() within the function definition to avoid automatic execution upon function definition."
      ],
      "metadata": {
        "colab": {
          "base_uri": "https://localhost:8080/"
        },
        "id": "l_PZJpGR1uNc",
        "outputId": "f12e8a45-9bb0-409b-ced8-5ec9b2070b99"
      },
      "execution_count": null,
      "outputs": [
        {
          "output_type": "stream",
          "name": "stdout",
          "text": [
            "Enter any city name: mbeya\n",
            "Mean Squared error for rain model \n",
            "0.002\n",
            "\n",
            "=== Weather Advisory ===\n",
            "City: mbeya, TZ\n",
            "Current Temperature: 16°C\n",
            "Feels Like: 16\n",
            "Humidity: 57%\n",
            "Wind Speed: 2 km/h\n",
            "Cloud Cover: 31%\n",
            "Pressure: 1021 hPa\n",
            "Weather Prediction: scattered clouds\n",
            "Rain Prediction: No rain ☀️\n",
            "\n",
            "Future Temperature Predictions:\n",
            "11:00: 17.9°C\n",
            "12:00: 30.9°C\n",
            "13:00: 16.1°C\n",
            "14:00: 17.6°C\n",
            "15:00: 23.1°C\n",
            "\n",
            "Future Humidity Predictions:\n",
            "11:00: 50.0%\n",
            "12:00: 59.9%\n",
            "13:00: 46.9%\n",
            "14:00: 47.8%\n",
            "15:00: 82.8%\n"
          ]
        }
      ]
    },
    {
      "cell_type": "code",
      "source": [
        "from google.colab import drive\n",
        "drive.mount('/content/drive')"
      ],
      "metadata": {
        "id": "w3MWpSEqDu7e"
      },
      "execution_count": null,
      "outputs": []
    },
    {
      "cell_type": "markdown",
      "source": [],
      "metadata": {
        "id": "nCrTFDc6pgz2"
      }
    },
    {
      "cell_type": "code",
      "metadata": {
        "colab": {
          "base_uri": "https://localhost:8080/"
        },
        "id": "574fe6e4",
        "outputId": "ec4790d3-0dad-4cfc-d380-e41d331f3cdf"
      },
      "source": [
        "weather_view()"
      ],
      "execution_count": null,
      "outputs": [
        {
          "output_type": "stream",
          "name": "stdout",
          "text": [
            "Enter any city name: dodoma\n",
            "Mean Squared error for rain model \n",
            "0.002\n",
            "\n",
            "=== Weather Advisory ===\n",
            "City: dodoma, TZ\n",
            "Current Temperature: 20°C\n",
            "Feels Like: 19\n",
            "Humidity: 48%\n",
            "Wind Speed: 3 km/h\n",
            "Cloud Cover: 54%\n",
            "Pressure: 1020 hPa\n",
            "Weather Prediction: broken clouds\n",
            "Rain Prediction: No rain ☀️\n",
            "\n",
            "Future Temperature Predictions:\n",
            "11:00: 24.6°C\n",
            "12:00: 25.7°C\n",
            "13:00: 25.9°C\n",
            "14:00: 29.2°C\n",
            "15:00: 24.9°C\n",
            "\n",
            "Future Humidity Predictions:\n",
            "11:00: 63.9%\n",
            "12:00: 57.5%\n",
            "13:00: 69.5%\n",
            "14:00: 57.1%\n",
            "15:00: 49.5%\n"
          ]
        }
      ]
    },
    {
      "cell_type": "code",
      "metadata": {
        "colab": {
          "base_uri": "https://localhost:8080/"
        },
        "id": "968ef8dc",
        "outputId": "4835e1cd-bbdd-4556-c486-6f0e36005589"
      },
      "source": [
        "weather_view()"
      ],
      "execution_count": null,
      "outputs": [
        {
          "output_type": "stream",
          "name": "stdout",
          "text": [
            "Enter any city name: iringa\n",
            "Mean Squared error for rain model \n",
            "0.002\n",
            "\n",
            "=== Weather Advisory ===\n",
            "City: iringa, TZ\n",
            "Current Temperature: 18°C\n",
            "Feels Like: 17\n",
            "Humidity: 50%\n",
            "Wind Speed: 2 km/h\n",
            "Cloud Cover: 69%\n",
            "Pressure: 1021 hPa\n",
            "Weather Prediction: broken clouds\n",
            "Rain Prediction: No rain ☀️\n",
            "\n",
            "Future Temperature Predictions:\n",
            "11:00: 19.3°C\n",
            "12:00: 19.9°C\n",
            "13:00: 19.0°C\n",
            "14:00: 20.7°C\n",
            "15:00: 16.6°C\n",
            "\n",
            "Future Humidity Predictions:\n",
            "11:00: 75.3%\n",
            "12:00: 68.5%\n",
            "13:00: 60.2%\n",
            "14:00: 83.3%\n",
            "15:00: 44.7%\n"
          ]
        }
      ]
    },
    {
      "cell_type": "markdown",
      "metadata": {
        "id": "f439ef08"
      },
      "source": [
        "# Task\n",
        "Create a web interface for the weather prediction model."
      ]
    },
    {
      "cell_type": "markdown",
      "metadata": {
        "id": "b7c53529"
      },
      "source": [
        "## Choose a web framework\n",
        "\n",
        "### Subtask:\n",
        "Select a suitable Python web framework (like Flask or Django) to build the web application.\n"
      ]
    },
    {
      "cell_type": "markdown",
      "metadata": {
        "id": "93379a7e"
      },
      "source": [
        "## Design the user interface\n",
        "\n",
        "### Subtask:\n",
        "Plan the layout and elements of your web interface, considering what information to display and how users will interact with it (e.g., inputting city name).\n"
      ]
    },
    {
      "cell_type": "markdown",
      "metadata": {
        "id": "aac5f7c8"
      },
      "source": [
        "**Reasoning**:\n",
        "I need to plan the layout and elements of the web interface based on the weather prediction model's output and user interaction requirements. This involves listing the required information, designing the layout, describing the visual elements, outlining the user flow, and considering error handling. I will output this plan as a markdown cell.\n",
        "\n"
      ]
    },
    {
      "cell_type": "code",
      "metadata": {
        "colab": {
          "base_uri": "https://localhost:8080/",
          "height": 106
        },
        "id": "7711da83",
        "outputId": "8141b579-724a-4d12-bae4-9f78fa44efa8"
      },
      "source": [
        "```markdown\n",
        "## Web Interface Layout and Elements Plan\n",
        "\n",
        "**1. Information to Display:**\n",
        "\n",
        "The web interface should display the following information from the weather prediction model:\n",
        "\n",
        "*   **Current Weather Information:**\n",
        "    *   City and Country\n",
        "    *   Current Temperature (°C)\n",
        "    *   Feels Like Temperature (°C)\n",
        "    *   Humidity (%)\n",
        "    *   Wind Speed (km/h)\n",
        "    *   Cloud Cover (%)\n",
        "    *   Pressure (hPa)\n",
        "    *   Weather Description\n",
        "    *   Rain Prediction (e.g., \"Rain expected\" or \"No rain\")\n",
        "*   **Future Predictions (for the next 5 hours):**\n",
        "    *   Timestamp (e.g., \"HH:00\")\n",
        "    *   Predicted Temperature (°C)\n",
        "    *   Predicted Humidity (%)\n",
        "\n",
        "**2. Layout:**\n",
        "\n",
        "A simple, single-page layout will be used.\n",
        "\n",
        "*   **Header:** A clear title for the application (e.g., \"Weather Advisory\").\n",
        "*   **Input Area:**\n",
        "    *   A label \"Enter City Name:\".\n",
        "    *   A text input field for the user to type the city name.\n",
        "    *   A \"Get Weather\" button to trigger the prediction.\n",
        "*   **Results Area:** This area will be initially empty and populated with the weather information after the user submits a city name.\n",
        "    *   A section for current weather details.\n",
        "    *   A section for future temperature predictions.\n",
        "    *   A section for future humidity predictions.\n",
        "*   **Footer (Optional):** Can include a small note about the data source.\n",
        "\n",
        "**3. Visual Elements:**\n",
        "\n",
        "*   **Headings:** Clear headings for each section (e.g., \"Current Weather\", \"Future Predictions\").\n",
        "*   **Labels:** Descriptive labels for all displayed information (e.g., \"Temperature:\", \"Humidity:\").\n",
        "*   **Input Field:** A standard text input box.\n",
        "*   **Button:** A clearly labeled button (e.g., \"Get Weather\").\n",
        "*   **Results Display:** The predicted information will be displayed using text, potentially organized in lists or tables for readability (especially for future predictions).\n",
        "*   **Icons (Optional):** Could use simple icons to represent weather conditions (sun for no rain, cloud/raindrop for rain).\n",
        "\n",
        "**4. User Flow:**\n",
        "\n",
        "1.  The user visits the web page.\n",
        "2.  The user enters a city name in the input field.\n",
        "3.  The user clicks the \"Get Weather\" button.\n",
        "4.  The web application sends the city name to the backend (which will use the weather prediction model).\n",
        "5.  The backend processes the request, fetches current weather data, uses the historical data and models to predict rain and future temperature/humidity.\n",
        "6.  The backend sends the results back to the web page.\n",
        "7.  The web page displays the current weather details and future predictions in the results area.\n",
        "\n",
        "**5. Error Handling and Loading Indicators:**\n",
        "\n",
        "*   **Invalid City Name:** If the entered city name is invalid or the weather data cannot be retrieved for the given city, an error message should be displayed to the user (e.g., \"City not found. Please enter a valid city name.\").\n",
        "*   **Loading Indicator:** While the application is fetching data and running the prediction model, a loading indicator (e.g., spinning icon or text message) could be displayed to provide feedback to the user.\n",
        "*   **API Errors:** Handle potential errors from the weather API call.\n",
        "*   **Model Errors:** While less likely for this specific setup, consider how to handle potential issues during model prediction if necessary."
      ],
      "execution_count": 65,
      "outputs": [
        {
          "output_type": "error",
          "ename": "SyntaxError",
          "evalue": "invalid character '°' (U+00B0) (ipython-input-2071975304.py, line 10)",
          "traceback": [
            "\u001b[0;36m  File \u001b[0;32m\"/tmp/ipython-input-2071975304.py\"\u001b[0;36m, line \u001b[0;32m10\u001b[0m\n\u001b[0;31m    *   Current Temperature (°C)\u001b[0m\n\u001b[0m                             ^\u001b[0m\n\u001b[0;31mSyntaxError\u001b[0m\u001b[0;31m:\u001b[0m invalid character '°' (U+00B0)\n"
          ]
        }
      ]
    },
    {
      "cell_type": "markdown",
      "metadata": {
        "id": "ff4f6c69"
      },
      "source": [
        "**Reasoning**:\n",
        "The previous command failed due to a `SyntaxError` caused by the degree symbol (°). I will regenerate the markdown cell, removing or replacing the degree symbol to avoid this error.\n",
        "\n"
      ]
    },
    {
      "cell_type": "code",
      "metadata": {
        "colab": {
          "base_uri": "https://localhost:8080/",
          "height": 106
        },
        "id": "Kz3imzjjqzBK",
        "outputId": "0794f6e5-7164-4f20-d73d-d18a62a27612"
      },
      "source": [
        "```markdown\n",
        "## Web Interface Layout and Elements Plan\n",
        "\n",
        "**1. Information to Display:**\n",
        "\n",
        "The web interface should display the following information from the weather prediction model:\n",
        "\n",
        "*   **Current Weather Information:**\n",
        "    *   City and Country\n",
        "    *   Current Temperature (C)\n",
        "    *   Feels Like Temperature (C)\n",
        "    *   Humidity (%)\n",
        "    *   Wind Speed (km/h)\n",
        "    *   Cloud Cover (%)\n",
        "    *   Pressure (hPa)\n",
        "    *   Weather Description\n",
        "    *   Rain Prediction (e.g., \"Rain expected\" or \"No rain\")\n",
        "*   **Future Predictions (for the next 5 hours):**\n",
        "    *   Timestamp (e.g., \"HH:00\")\n",
        "    *   Predicted Temperature (C)\n",
        "    *   Predicted Humidity (%)\n",
        "\n",
        "**2. Layout:**\n",
        "\n",
        "A simple, single-page layout will be used.\n",
        "\n",
        "*   **Header:** A clear title for the application (e.g., \"Weather Advisory\").\n",
        "*   **Input Area:**\n",
        "    *   A label \"Enter City Name:\".\n",
        "    *   A text input field for the user to type the city name.\n",
        "    *   A \"Get Weather\" button to trigger the prediction.\n",
        "*   **Results Area:** This area will be initially empty and populated with the weather information after the user submits a city name.\n",
        "    *   A section for current weather details.\n",
        "    *   A section for future temperature predictions.\n",
        "    *   A section for future humidity predictions.\n",
        "*   **Footer (Optional):** Can include a small note about the data source.\n",
        "\n",
        "**3. Visual Elements:**\n",
        "\n",
        "*   **Headings:** Clear headings for each section (e.g., \"Current Weather\", \"Future Predictions\").\n",
        "*   **Labels:** Descriptive labels for all displayed information (e.g., \"Temperature:\", \"Humidity:\").\n",
        "*   **Input Field:** A standard text input box.\n",
        "*   **Button:** A clearly labeled button (e.g., \"Get Weather\").\n",
        "*   **Results Display:** The predicted information will be displayed using text, potentially organized in lists or tables for readability (especially for future predictions).\n",
        "*   **Icons (Optional):** Could use simple icons to represent weather conditions (sun for no rain, cloud/raindrop for rain).\n",
        "\n",
        "**4. User Flow:**\n",
        "\n",
        "1.  The user visits the web page.\n",
        "2.  The user enters a city name in the input field.\n",
        "3.  The user clicks the \"Get Weather\" button.\n",
        "4.  The web application sends the city name to the backend (which will use the weather prediction model).\n",
        "5.  The backend processes the request, fetches current weather data, uses the historical data and models to predict rain and future temperature/humidity.\n",
        "6.  The backend sends the results back to the web page.\n",
        "7.  The web page displays the current weather details and future predictions in the results area.\n",
        "\n",
        "**5. Error Handling and Loading Indicators:**\n",
        "\n",
        "*   **Invalid City Name:** If the entered city name is invalid or the weather data cannot be retrieved for the given city, an error message should be displayed to the user (e.g., \"City not found. Please enter a valid city name.\").\n",
        "*   **Loading Indicator:** While the application is fetching data and running the prediction model, a loading indicator (e.g., spinning icon or text message) could be displayed to provide feedback to the user.\n",
        "*   **API Errors:** Handle potential errors from the weather API call.\n",
        "*   **Model Errors:** While less likely for this specific setup, consider how to handle potential issues during model prediction if necessary."
      ],
      "execution_count": 66,
      "outputs": [
        {
          "output_type": "error",
          "ename": "SyntaxError",
          "evalue": "invalid syntax (ipython-input-3841278390.py, line 1)",
          "traceback": [
            "\u001b[0;36m  File \u001b[0;32m\"/tmp/ipython-input-3841278390.py\"\u001b[0;36m, line \u001b[0;32m1\u001b[0m\n\u001b[0;31m    ```markdown\u001b[0m\n\u001b[0m    ^\u001b[0m\n\u001b[0;31mSyntaxError\u001b[0m\u001b[0;31m:\u001b[0m invalid syntax\n"
          ]
        }
      ]
    },
    {
      "cell_type": "markdown",
      "metadata": {
        "id": "feb8cb69"
      },
      "source": [
        "**Reasoning**:\n",
        "The markdown content was placed inside a `code_block` command, which caused a `SyntaxError`. I need to output the markdown directly without the command.\n",
        "\n"
      ]
    },
    {
      "cell_type": "code",
      "metadata": {
        "colab": {
          "base_uri": "https://localhost:8080/",
          "height": 106
        },
        "id": "tArN3DMrq2As",
        "outputId": "169f44d1-0b04-4d75-d36d-9e08a7929356"
      },
      "source": [
        "## Web Interface Layout and Elements Plan\n",
        "\n",
        "**1. Information to Display:**\n",
        "\n",
        "The web interface should display the following information from the weather prediction model:\n",
        "\n",
        "*   **Current Weather Information:**\n",
        "    *   City and Country\n",
        "    *   Current Temperature (C)\n",
        "    *   Feels Like Temperature (C)\n",
        "    *   Humidity (%)\n",
        "    *   Wind Speed (km/h)\n",
        "    *   Cloud Cover (%)\n",
        "    *   Pressure (hPa)\n",
        "    *   Weather Description\n",
        "    *   Rain Prediction (e.g., \"Rain expected\" or \"No rain\")\n",
        "*   **Future Predictions (for the next 5 hours):**\n",
        "    *   Timestamp (e.g., \"HH:00\")\n",
        "    *   Predicted Temperature (C)\n",
        "    *   Predicted Humidity (%)\n",
        "\n",
        "**2. Layout:**\n",
        "\n",
        "A simple, single-page layout will be used.\n",
        "\n",
        "*   **Header:** A clear title for the application (e.g., \"Weather Advisory\").\n",
        "*   **Input Area:**\n",
        "    *   A label \"Enter City Name:\".\n",
        "    *   A text input field for the user to type the city name.\n",
        "    *   A \"Get Weather\" button to trigger the prediction.\n",
        "*   **Results Area:** This area will be initially empty and populated with the weather information after the user submits a city name.\n",
        "    *   A section for current weather details.\n",
        "    *   A section for future temperature predictions.\n",
        "    *   A section for future humidity predictions.\n",
        "*   **Footer (Optional):** Can include a small note about the data source.\n",
        "\n",
        "**3. Visual Elements:**\n",
        "\n",
        "*   **Headings:** Clear headings for each section (e.g., \"Current Weather\", \"Future Predictions\").\n",
        "*   **Labels:** Descriptive labels for all displayed information (e.g., \"Temperature:\", \"Humidity:\").\n",
        "*   **Input Field:** A standard text input box.\n",
        "*   **Button:** A clearly labeled button (e.g., \"Get Weather\").\n",
        "*   **Results Display:** The predicted information will be displayed using text, potentially organized in lists or tables for readability (especially for future predictions).\n",
        "*   **Icons (Optional):** Could use simple icons to represent weather conditions (sun for no rain, cloud/raindrop for rain).\n",
        "\n",
        "**4. User Flow:**\n",
        "\n",
        "1.  The user visits the web page.\n",
        "2.  The user enters a city name in the input field.\n",
        "3.  The user clicks the \"Get Weather\" button.\n",
        "4.  The web application sends the city name to the backend (which will use the weather prediction model).\n",
        "5.  The backend processes the request, fetches current weather data, uses the historical data and models to predict rain and future temperature/humidity.\n",
        "6.  The backend sends the results back to the web page.\n",
        "7.  The web page displays the current weather details and future predictions in the results area.\n",
        "\n",
        "**5. Error Handling and Loading Indicators:**\n",
        "\n",
        "*   **Invalid City Name:** If the entered city name is invalid or the weather data cannot be retrieved for the given city, an error message should be displayed to the user (e.g., \"City not found. Please enter a valid city name.\").\n",
        "*   **Loading Indicator:** While the application is fetching data and running the prediction model, a loading indicator (e.g., spinning icon or text message) could be displayed to provide feedback to the user.\n",
        "*   **API Errors:** Handle potential errors from the weather API call.\n",
        "*   **Model Errors:** While less likely for this specific setup, consider how to handle potential issues during model prediction if necessary."
      ],
      "execution_count": 67,
      "outputs": [
        {
          "output_type": "error",
          "ename": "SyntaxError",
          "evalue": "invalid syntax (ipython-input-1266543058.py, line 3)",
          "traceback": [
            "\u001b[0;36m  File \u001b[0;32m\"/tmp/ipython-input-1266543058.py\"\u001b[0;36m, line \u001b[0;32m3\u001b[0m\n\u001b[0;31m    **1. Information to Display:**\u001b[0m\n\u001b[0m    ^\u001b[0m\n\u001b[0;31mSyntaxError\u001b[0m\u001b[0;31m:\u001b[0m invalid syntax\n"
          ]
        }
      ]
    },
    {
      "cell_type": "markdown",
      "metadata": {
        "id": "59090f09"
      },
      "source": [
        "## Create the web application structure\n",
        "\n",
        "### Subtask:\n",
        "Set up the basic file and folder structure for your web project.\n"
      ]
    },
    {
      "cell_type": "markdown",
      "metadata": {
        "id": "ad1ffbf5"
      },
      "source": [
        "**Reasoning**:\n",
        "Create the necessary directories and files for the web application structure.\n",
        "\n"
      ]
    },
    {
      "cell_type": "code",
      "metadata": {
        "colab": {
          "base_uri": "https://localhost:8080/"
        },
        "id": "392f1c9c",
        "outputId": "f618fb5a-dfb0-4c7f-8d61-ee9fa8711ebe"
      },
      "source": [
        "import os\n",
        "\n",
        "# Define the root directory name\n",
        "root_dir = \"weather_app\"\n",
        "\n",
        "# Create the root directory\n",
        "os.makedirs(root_dir, exist_ok=True)\n",
        "\n",
        "# Create the Flask application file\n",
        "app_file = os.path.join(root_dir, \"app.py\")\n",
        "with open(app_file, \"w\") as f:\n",
        "    f.write(\"# Basic Flask app structure will go here\\n\")\n",
        "\n",
        "# Create the templates directory\n",
        "templates_dir = os.path.join(root_dir, \"templates\")\n",
        "os.makedirs(templates_dir, exist_ok=True)\n",
        "\n",
        "# Create the main HTML file inside templates\n",
        "index_file = os.path.join(templates_dir, \"index.html\")\n",
        "with open(index_file, \"w\") as f:\n",
        "    f.write(\"<!-- Basic HTML structure will go here -->\\n\")\n",
        "\n",
        "# Create the static directory\n",
        "static_dir = os.path.join(root_dir, \"static\")\n",
        "os.makedirs(static_dir, exist_ok=True)\n",
        "\n",
        "# Create css and js folders inside static (optional but recommended)\n",
        "css_dir = os.path.join(static_dir, \"css\")\n",
        "os.makedirs(css_dir, exist_ok=True)\n",
        "\n",
        "js_dir = os.path.join(static_dir, \"js\")\n",
        "os.makedirs(js_dir, exist_ok=True)\n",
        "\n",
        "print(f\"Project structure created in '{root_dir}'\")"
      ],
      "execution_count": 68,
      "outputs": [
        {
          "output_type": "stream",
          "name": "stdout",
          "text": [
            "Project structure created in 'weather_app'\n"
          ]
        }
      ]
    },
    {
      "cell_type": "markdown",
      "metadata": {
        "id": "ea0fbce3"
      },
      "source": [
        "## Develop the backend\n",
        "\n",
        "### Subtask:\n",
        "Write the Python code to handle user requests, call your weather prediction functions, and process the results using Flask.\n"
      ]
    },
    {
      "cell_type": "markdown",
      "metadata": {
        "id": "10b033cc"
      },
      "source": [
        "**Reasoning**:\n",
        "Write the Python code for the Flask application, including routes for the home page and weather prediction, using the existing weather prediction functions.\n",
        "\n"
      ]
    },
    {
      "cell_type": "code",
      "metadata": {
        "colab": {
          "base_uri": "https://localhost:8080/"
        },
        "id": "5b92a4cb",
        "outputId": "0aa89e34-58c5-4c9c-92ec-715a28b07b30"
      },
      "source": [
        "from flask import Flask, request, render_template\n",
        "# Import your existing weather prediction functions\n",
        "# from your_module import get_current_weather, read_historical_data, prepare_data, train_rain_model, prepare_regression_data, train_regression_model, predict_future\n",
        "\n",
        "app = Flask(__name__)\n",
        "\n",
        "@app.route('/')\n",
        "def index():\n",
        "    return render_template('index.html')\n",
        "\n",
        "@app.route('/predict_weather', methods=['POST'])\n",
        "def predict_weather():\n",
        "    city = request.form.get('city')\n",
        "    if not city:\n",
        "        return render_template('index.html', error=\"Please enter a city name.\")\n",
        "\n",
        "    try:\n",
        "        current_weather = get_current_weather(city)\n",
        "        if 'message' in current_weather and current_weather['message'] == 'city not found':\n",
        "            return render_template('index.html', error=f\"City '{city}' not found.\")\n",
        "\n",
        "        historical_data = read_historical_data(\"/content/weather_forecast_data.csv\")\n",
        "\n",
        "        x, y, le = prepare_data(historical_data)\n",
        "        rain_model = train_rain_model(x, y)\n",
        "\n",
        "        current_data = {\n",
        "            \"Temperature\": current_weather[\"current_temp\"],\n",
        "            \"Humidity\": current_weather[\"humidity\"],\n",
        "            \"Wind_Speed\": current_weather[\"wind_speed\"],\n",
        "            \"Cloud_Cover\": current_weather[\"cloud_cover\"],\n",
        "            \"Pressure\": current_weather[\"pressure\"]\n",
        "        }\n",
        "        current_df = pd.DataFrame([current_data])\n",
        "\n",
        "        rain_prediction_encoded = rain_model.predict(current_df)[0]\n",
        "        rain_prediction = le.inverse_transform([rain_prediction_encoded])[0]\n",
        "\n",
        "        x_temp, y_temp = prepare_regression_data(historical_data, 'Temperature')\n",
        "        x_hum, y_hum = prepare_regression_data(historical_data, 'Humidity')\n",
        "\n",
        "        temp_model = train_regression_model(x_temp, y_temp)\n",
        "        hum_model = train_regression_model(x_hum, y_hum)\n",
        "\n",
        "        future_temp = predict_future(temp_model, current_weather['current_temp'])\n",
        "        future_humidity = predict_future(hum_model, current_weather['humidity'])\n",
        "\n",
        "        timezone = pytz.timezone('Africa/Dar_es_Salaam') # Using a specific timezone\n",
        "        now = datetime.now(timezone)\n",
        "        # Start future times from the next hour\n",
        "        next_hours_start = now.replace(minute=0, second=0, microsecond=0) + timedelta(hours=1)\n",
        "        future_times = [(next_hours_start + timedelta(hours=i)).strftime('%H:00') for i in range(5)]\n",
        "\n",
        "\n",
        "        weather_data = {\n",
        "            'city': current_weather['city'],\n",
        "            'country': current_weather['country'],\n",
        "            'current_temp': current_weather['current_temp'],\n",
        "            'feels_like': current_weather['feels_like'],\n",
        "            'humidity': current_weather['humidity'],\n",
        "            'wind_speed': current_weather['wind_speed'],\n",
        "            'cloud_cover': current_weather['cloud_cover'],\n",
        "            'pressure': current_weather['pressure'],\n",
        "            'description': current_weather['description'],\n",
        "            'rain_prediction': 'Rain expected 🌧️' if rain_prediction == 'rain' else 'No rain ☀️',\n",
        "            'future_predictions': list(zip(future_times, [round(t, 1) for t in future_temp], [round(h, 1) for h in future_humidity]))\n",
        "        }\n",
        "\n",
        "        return render_template('index.html', weather=weather_data)\n",
        "\n",
        "    except Exception as e:\n",
        "        return render_template('index.html', error=f\"An error occurred: {e}\")\n",
        "\n",
        "# This block allows the script to be run directly and start the Flask server\n",
        "if __name__ == '__main__':\n",
        "    # For development, you can run with debug=True\n",
        "    # In a production environment, use a production-ready WSGI server\n",
        "    app.run(debug=True, port=5000)"
      ],
      "execution_count": null,
      "outputs": [
        {
          "output_type": "stream",
          "name": "stdout",
          "text": [
            " * Serving Flask app '__main__'\n",
            " * Debug mode: on\n"
          ]
        },
        {
          "output_type": "stream",
          "name": "stderr",
          "text": [
            "INFO:werkzeug:\u001b[31m\u001b[1mWARNING: This is a development server. Do not use it in a production deployment. Use a production WSGI server instead.\u001b[0m\n",
            " * Running on http://127.0.0.1:5000\n",
            "INFO:werkzeug:\u001b[33mPress CTRL+C to quit\u001b[0m\n",
            "INFO:werkzeug: * Restarting with stat\n"
          ]
        }
      ]
    }
  ]
}