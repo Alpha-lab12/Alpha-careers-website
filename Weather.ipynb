{
  "nbformat": 4,
  "nbformat_minor": 0,
  "metadata": {
    "colab": {
      "provenance": [],
      "authorship_tag": "ABX9TyOahX6Ub0EEjZjjQ4qJ0l2D",
      "include_colab_link": true
    },
    "kernelspec": {
      "name": "python3",
      "display_name": "Python 3"
    },
    "language_info": {
      "name": "python"
    }
  },
  "cells": [
    {
      "cell_type": "markdown",
      "metadata": {
        "id": "view-in-github",
        "colab_type": "text"
      },
      "source": [
        "<a href=\"https://colab.research.google.com/github/Alpha-lab12/Alpha-careers-website/blob/main/Weather.ipynb\" target=\"_parent\"><img src=\"https://colab.research.google.com/assets/colab-badge.svg\" alt=\"Open In Colab\"/></a>"
      ]
    },
    {
      "cell_type": "code",
      "execution_count": 3,
      "metadata": {
        "collapsed": true,
        "id": "qgeOfsPwxtc_"
      },
      "outputs": [],
      "source": [
        "import requests # This library helps to fetch data from API\n",
        "import pandas as pd # Helps for handling and analysing data\n",
        "import numpy as np # Used to perform numerical operation\n",
        "from sklearn.model_selection import train_test_split # to split data into training and testing\n",
        "from sklearn.preprocessing import LabelEncoder # to convert categorical data to numerical values\n",
        "from sklearn.ensemble import RandomForestClassifier, RandomForestRegressor #model for classification and regression\n",
        "from sklearn.metrics import mean_squared_error #For measuring accuracy of the model/prediction\n",
        "from datetime import datetime, timedelta #to handle date and time\n",
        "import pytz\n"
      ]
    },
    {
      "cell_type": "code",
      "source": [
        "API_KEY = '08b881ad5e8964d704fa0f9cfc06dec4' #Replace with the actual API keys\n",
        "BASE_URL = 'https://api.openweathermap.org/data/2.5/' #Base URL for making API requests\n"
      ],
      "metadata": {
        "id": "UR19WipO4Vsn"
      },
      "execution_count": 4,
      "outputs": []
    },
    {
      "cell_type": "markdown",
      "source": [
        "1. Function to fetch the current weather data"
      ],
      "metadata": {
        "id": "J8Gu3QKH5SET"
      }
    },
    {
      "cell_type": "code",
      "source": [
        "def get_current_weather(city):\n",
        "    url = f\"{BASE_URL}weather?q={city}&appid={API_KEY}&units=metric\"\n",
        "\n",
        "    response = requests.get(url)\n",
        "    data = response.json()\n",
        "\n",
        "    return {\n",
        "        'city': data['name'],\n",
        "        'current_temp': round(data['main']['temp']),\n",
        "        'feels_like': round(data['main']['feels_like']),\n",
        "        'temp_min': round(data['main']['temp_min']),\n",
        "        'temp_max': round(data['main']['temp_max']),\n",
        "        'humidity': round(data['main']['humidity']),\n",
        "        'description': data['weather'][0]['description'],\n",
        "        'country': data['sys']['country'],\n",
        "        'wind_speed': round(data['wind']['speed']),\n",
        "        'cloud_cover': round(data['clouds']['all']),\n",
        "        'pressure': round(data['main']['pressure'])\n",
        "    }\n",
        "    return data"
      ],
      "metadata": {
        "id": "V9-Jvnch5dkI"
      },
      "execution_count": 16,
      "outputs": []
    },
    {
      "cell_type": "markdown",
      "source": [
        "2. Read Historical Data"
      ],
      "metadata": {
        "id": "pN6YR80IMQYj"
      }
    },
    {
      "cell_type": "code",
      "source": [
        "def read_historical_data(filename):\n",
        "  df = pd.read_csv(filename) #load csv file into Dataframe\n",
        "  df = df.dropna()\n",
        "  df = df.drop_duplicates() # Added parentheses here\n",
        "  df.head()\n",
        "  return df"
      ],
      "metadata": {
        "id": "H68r1TqCMhJD"
      },
      "execution_count": 15,
      "outputs": []
    },
    {
      "cell_type": "markdown",
      "source": [
        "3. Prepare data for training"
      ],
      "metadata": {
        "id": "YENyHSZ1XmzR"
      }
    },
    {
      "cell_type": "code",
      "source": [
        "from sklearn.preprocessing import LabelEncoder\n",
        "\n",
        "def prepare_data(data):\n",
        "    # Initialize and apply the label encoder\n",
        "    le = LabelEncoder()\n",
        "    data['Rain'] = le.fit_transform(data['Rain'])\n",
        "\n",
        "    # Define features and target\n",
        "    x = data[['Temperature', 'Humidity', 'Wind_Speed', 'Cloud_Cover', 'Pressure']]\n",
        "    y = data['Rain']\n",
        "\n",
        "    return x, y, le\n",
        "\n"
      ],
      "metadata": {
        "id": "aOtitufRXuoS"
      },
      "execution_count": 7,
      "outputs": []
    },
    {
      "cell_type": "markdown",
      "source": [
        "4: Train Rain model prediction"
      ],
      "metadata": {
        "id": "7XU58X7auxYY"
      }
    },
    {
      "cell_type": "code",
      "source": [
        "def train_rain_model(x,y):\n",
        " x_train, x_test, y_train, y_test = train_test_split(x, y, test_size=0.2, random_state=42)\n",
        " model=RandomForestClassifier(n_estimators = 100, random_state =42)\n",
        " model.fit(x_train, y_train)\n",
        " y_pred = model.predict(x_test)\n",
        " print(\"Mean Squared error for rain model \")\n",
        " print(mean_squared_error(y_test, y_pred))\n",
        " return model\n"
      ],
      "metadata": {
        "id": "_XkGzG6ru-lP"
      },
      "execution_count": 17,
      "outputs": []
    },
    {
      "cell_type": "markdown",
      "source": [
        "**5: Prepare regression model**"
      ],
      "metadata": {
        "id": "MQ35tktMu_Za"
      }
    },
    {
      "cell_type": "code",
      "source": [
        "def prepare_regression_data(data, feature):\n",
        "    x, y = [], []\n",
        "\n",
        "    # Build pairs: current value vs. next value\n",
        "    for i in range(len(data) - 1):\n",
        "        x.append(data[feature].iloc[i])\n",
        "        y.append(data[feature].iloc[i + 1])\n",
        "\n",
        "    # Convert to NumPy arrays\n",
        "    x = np.array(x).reshape(-1, 1)  # Feature needs to be 2D for most regressors\n",
        "    y = np.array(y)  # Target values (next time step)\n",
        "\n",
        "    return x, y"
      ],
      "metadata": {
        "id": "cu50GfhMvGU3"
      },
      "execution_count": 18,
      "outputs": []
    },
    {
      "cell_type": "markdown",
      "source": [
        "**6: Train regression model**"
      ],
      "metadata": {
        "id": "U7KuOd8dycqW"
      }
    },
    {
      "cell_type": "code",
      "source": [
        "def train_regression_model(x,y):\n",
        "  model = RandomForestRegressor(n_estimators=100, random_state=42)\n",
        "  model.fit(x,y)\n",
        "  return model"
      ],
      "metadata": {
        "id": "UDxBDxSoyiyZ"
      },
      "execution_count": 10,
      "outputs": []
    },
    {
      "cell_type": "markdown",
      "source": [
        "**7: Predict future**"
      ],
      "metadata": {
        "id": "wpLHMo0YzuvR"
      }
    },
    {
      "cell_type": "code",
      "source": [
        "def predict_future(model, current_value):\n",
        "  predictions =[current_value]\n",
        "  for i in range(5):\n",
        "    next_value = model.predict(np.array([[predictions[-1]]]))\n",
        "    predictions.append(next_value[0])\n",
        "  return predictions[1:] # Moved return statement outside the loop"
      ],
      "metadata": {
        "id": "VzGgca0Czzk6"
      },
      "execution_count": 11,
      "outputs": []
    },
    {
      "cell_type": "markdown",
      "source": [
        "**8: Weather analysis function**"
      ],
      "metadata": {
        "id": "SLpOvK441oon"
      }
    },
    {
      "cell_type": "code",
      "source": [
        "import pandas as pd\n",
        "import pytz\n",
        "from datetime import datetime, timedelta\n",
        "# 🌍 Main weather view function\n",
        "def weather_view():\n",
        "    city = input(\"Enter any city name: \")\n",
        "\n",
        "    current_weather = get_current_weather(city)\n",
        "    historical_data = read_historical_data(\"/content/weather_forecast_data.csv\")\n",
        "\n",
        "    x, y, le = prepare_data(historical_data)\n",
        "    rain_model = train_rain_model(x, y)\n",
        "\n",
        "    current_data = {\n",
        "        \"Temperature\": current_weather[\"current_temp\"], # Changed 'Temp' to 'Temperature'\n",
        "        \"Humidity\": current_weather[\"humidity\"],\n",
        "        \"Wind_Speed\": current_weather[\"wind_speed\"],\n",
        "        \"Cloud_Cover\": current_weather[\"cloud_cover\"],\n",
        "        \"Pressure\": current_weather[\"pressure\"]\n",
        "    }\n",
        "\n",
        "    current_df = pd.DataFrame([current_data])\n",
        "\n",
        "#Rain prediction\n",
        "    rain_prediction = rain_model.predict(current_df)[0]\n",
        "\n",
        "#Prepare regression model for temperature and humidity\n",
        "\n",
        "    x_temp, y_temp = prepare_regression_data(historical_data, 'Temperature') # Changed 'Temp' to 'Temperature'\n",
        "    x_hum, y_hum = prepare_regression_data(historical_data, 'Humidity')\n",
        "\n",
        "    temp_model = train_regression_model(x_temp, y_temp)\n",
        "    hum_model = train_regression_model(x_hum, y_hum)\n",
        "\n",
        "#Predict future temperature and humidity\n",
        "\n",
        "    future_temp = predict_future(temp_model, current_weather['current_temp'])\n",
        "    future_humidity = predict_future(hum_model, current_weather['humidity'])\n",
        "\n",
        "#prepare time for future prediction\n",
        "\n",
        "    timezone = pytz.timezone('Africa/Dar_es_Salaam')\n",
        "    now = datetime.now(timezone)\n",
        "    next_hours = now.replace(minute=0, second=0, microsecond=0) + timedelta(hours=1)\n",
        "    future_times = [(next_hours + timedelta(hours=i)).strftime('%H:00') for i in range(1, 6)]\n",
        "\n",
        "    # 🖥️ Display results\n",
        "    print(\"\\n=== Weather Advisory ===\")\n",
        "    print(f\"City: {city}, {current_weather['country']}\")\n",
        "    print(f\"Current Temperature: {current_weather['current_temp']}°C\")\n",
        "    print(f\"Feels Like: {current_weather['feels_like']}\")\n",
        "    print(f\"Humidity: {current_weather['humidity']}%\")\n",
        "    print(f\"Wind Speed: {current_weather['wind_speed']} km/h\")\n",
        "    print(f\"Cloud Cover: {current_weather['cloud_cover']}%\")\n",
        "    print(f\"Pressure: {current_weather['pressure']} hPa\")\n",
        "    print(f\"Weather Prediction: {current_weather['description']}\")\n",
        "    print(f\"Rain Prediction: {'Rain expected 🌧️' if rain_prediction else 'No rain ☀️'}\")\n",
        "\n",
        "    print(\"\\nFuture Temperature Predictions:\")\n",
        "    for time, temp in zip(future_times, future_temp):\n",
        "        print(f\"{time}: {round(temp, 1)}°C\")\n",
        "\n",
        "    print(\"\\nFuture Humidity Predictions:\")\n",
        "    for time, hum in zip(future_times, future_humidity):\n",
        "        print(f\"{time}: {round(hum, 1)}%\")\n",
        "\n",
        "# Call function\n",
        "weather_view() # Commenting out the direct call to weather_view() within the function definition to avoid automatic execution upon function definition."
      ],
      "metadata": {
        "colab": {
          "base_uri": "https://localhost:8080/"
        },
        "id": "l_PZJpGR1uNc",
        "outputId": "f12e8a45-9bb0-409b-ced8-5ec9b2070b99"
      },
      "execution_count": 12,
      "outputs": [
        {
          "output_type": "stream",
          "name": "stdout",
          "text": [
            "Enter any city name: mbeya\n",
            "Mean Squared error for rain model \n",
            "0.002\n",
            "\n",
            "=== Weather Advisory ===\n",
            "City: mbeya, TZ\n",
            "Current Temperature: 16°C\n",
            "Feels Like: 16\n",
            "Humidity: 57%\n",
            "Wind Speed: 2 km/h\n",
            "Cloud Cover: 31%\n",
            "Pressure: 1021 hPa\n",
            "Weather Prediction: scattered clouds\n",
            "Rain Prediction: No rain ☀️\n",
            "\n",
            "Future Temperature Predictions:\n",
            "11:00: 17.9°C\n",
            "12:00: 30.9°C\n",
            "13:00: 16.1°C\n",
            "14:00: 17.6°C\n",
            "15:00: 23.1°C\n",
            "\n",
            "Future Humidity Predictions:\n",
            "11:00: 50.0%\n",
            "12:00: 59.9%\n",
            "13:00: 46.9%\n",
            "14:00: 47.8%\n",
            "15:00: 82.8%\n"
          ]
        }
      ]
    },
    {
      "cell_type": "code",
      "source": [
        "from google.colab import drive\n",
        "drive.mount('/content/drive')"
      ],
      "metadata": {
        "id": "w3MWpSEqDu7e"
      },
      "execution_count": null,
      "outputs": []
    },
    {
      "cell_type": "markdown",
      "source": [],
      "metadata": {
        "id": "nCrTFDc6pgz2"
      }
    },
    {
      "cell_type": "code",
      "metadata": {
        "colab": {
          "base_uri": "https://localhost:8080/"
        },
        "id": "574fe6e4",
        "outputId": "ec4790d3-0dad-4cfc-d380-e41d331f3cdf"
      },
      "source": [
        "weather_view()"
      ],
      "execution_count": 13,
      "outputs": [
        {
          "output_type": "stream",
          "name": "stdout",
          "text": [
            "Enter any city name: dodoma\n",
            "Mean Squared error for rain model \n",
            "0.002\n",
            "\n",
            "=== Weather Advisory ===\n",
            "City: dodoma, TZ\n",
            "Current Temperature: 20°C\n",
            "Feels Like: 19\n",
            "Humidity: 48%\n",
            "Wind Speed: 3 km/h\n",
            "Cloud Cover: 54%\n",
            "Pressure: 1020 hPa\n",
            "Weather Prediction: broken clouds\n",
            "Rain Prediction: No rain ☀️\n",
            "\n",
            "Future Temperature Predictions:\n",
            "11:00: 24.6°C\n",
            "12:00: 25.7°C\n",
            "13:00: 25.9°C\n",
            "14:00: 29.2°C\n",
            "15:00: 24.9°C\n",
            "\n",
            "Future Humidity Predictions:\n",
            "11:00: 63.9%\n",
            "12:00: 57.5%\n",
            "13:00: 69.5%\n",
            "14:00: 57.1%\n",
            "15:00: 49.5%\n"
          ]
        }
      ]
    },
    {
      "cell_type": "code",
      "metadata": {
        "colab": {
          "base_uri": "https://localhost:8080/"
        },
        "id": "968ef8dc",
        "outputId": "4835e1cd-bbdd-4556-c486-6f0e36005589"
      },
      "source": [
        "weather_view()"
      ],
      "execution_count": 14,
      "outputs": [
        {
          "output_type": "stream",
          "name": "stdout",
          "text": [
            "Enter any city name: iringa\n",
            "Mean Squared error for rain model \n",
            "0.002\n",
            "\n",
            "=== Weather Advisory ===\n",
            "City: iringa, TZ\n",
            "Current Temperature: 18°C\n",
            "Feels Like: 17\n",
            "Humidity: 50%\n",
            "Wind Speed: 2 km/h\n",
            "Cloud Cover: 69%\n",
            "Pressure: 1021 hPa\n",
            "Weather Prediction: broken clouds\n",
            "Rain Prediction: No rain ☀️\n",
            "\n",
            "Future Temperature Predictions:\n",
            "11:00: 19.3°C\n",
            "12:00: 19.9°C\n",
            "13:00: 19.0°C\n",
            "14:00: 20.7°C\n",
            "15:00: 16.6°C\n",
            "\n",
            "Future Humidity Predictions:\n",
            "11:00: 75.3%\n",
            "12:00: 68.5%\n",
            "13:00: 60.2%\n",
            "14:00: 83.3%\n",
            "15:00: 44.7%\n"
          ]
        }
      ]
    }
  ]
}